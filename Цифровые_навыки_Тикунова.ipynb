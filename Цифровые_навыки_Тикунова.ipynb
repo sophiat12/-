{
  "nbformat": 4,
  "nbformat_minor": 0,
  "metadata": {
    "colab": {
      "name": "Цифровые навыки_Тикунова.ipynb",
      "provenance": [],
      "collapsed_sections": [],
      "authorship_tag": "ABX9TyPXPMVQIiOMpc5ZQCTD6emQ",
      "include_colab_link": true
    },
    "kernelspec": {
      "name": "python3",
      "display_name": "Python 3"
    },
    "language_info": {
      "name": "python"
    }
  },
  "cells": [
    {
      "cell_type": "markdown",
      "metadata": {
        "id": "view-in-github",
        "colab_type": "text"
      },
      "source": [
        "<a href=\"https://colab.research.google.com/github/sophiat12/-/blob/main/%D0%A6%D0%B8%D1%84%D1%80%D0%BE%D0%B2%D1%8B%D0%B5_%D0%BD%D0%B0%D0%B2%D1%8B%D0%BA%D0%B8_%D0%A2%D0%B8%D0%BA%D1%83%D0%BD%D0%BE%D0%B2%D0%B0.ipynb\" target=\"_parent\"><img src=\"https://colab.research.google.com/assets/colab-badge.svg\" alt=\"Open In Colab\"/></a>"
      ]
    },
    {
      "cell_type": "code",
      "source": [
        "%%html\n",
        "<iframe width='853' height='480' src='https://embed.coggle.it/diagram/YC4IxOANbSrVKSyk/74ce042e6a44cc05abd079a4dcbd06c651970e7d1d4a2f4365151685855f05bb' frameborder='0' allowfullscreen></iframe>"
      ],
      "metadata": {
        "colab": {
          "base_uri": "https://localhost:8080/",
          "height": 501
        },
        "id": "rN51cqUZPQsL",
        "outputId": "5ace37f9-b4ff-4957-8b48-e9cd4dbf60a8"
      },
      "execution_count": 1,
      "outputs": [
        {
          "output_type": "display_data",
          "data": {
            "text/html": [
              "<iframe width='853' height='480' src='https://embed.coggle.it/diagram/YC4IxOANbSrVKSyk/74ce042e6a44cc05abd079a4dcbd06c651970e7d1d4a2f4365151685855f05bb' frameborder='0' allowfullscreen></iframe>"
            ],
            "text/plain": [
              "<IPython.core.display.HTML object>"
            ]
          },
          "metadata": {}
        }
      ]
    },
    {
      "cell_type": "code",
      "source": [
        "%%html\n",
        "<iframe width=\"600\" height=\"450\" src=\"https://datastudio.google.com/embed/reporting/1dc0efdd-bab5-41a2-b381-4aebe00dddd8/page/HovbC\" frameborder=\"0\" style=\"border:0\" allowfullscreen></iframe>"
      ],
      "metadata": {
        "colab": {
          "base_uri": "https://localhost:8080/",
          "height": 471
        },
        "id": "dSZa7OmYRn_2",
        "outputId": "200bdfa5-e510-4dcc-fa4c-359fd8872b93"
      },
      "execution_count": null,
      "outputs": [
        {
          "output_type": "display_data",
          "data": {
            "text/html": [
              "<iframe width=\"600\" height=\"450\" src=\"https://datastudio.google.com/embed/reporting/1dc0efdd-bab5-41a2-b381-4aebe00dddd8/page/HovbC\" frameborder=\"0\" style=\"border:0\" allowfullscreen></iframe>"
            ],
            "text/plain": [
              "<IPython.core.display.HTML object>"
            ]
          },
          "metadata": {}
        }
      ]
    },
    {
      "cell_type": "code",
      "source": [
        "%%html\n",
        "<iframe width=\"600\" height=\"450\" src=\"https://datastudio.google.com/embed/reporting/beeea5be-5a6c-4db4-bc9a-3b6588342ffc/page/p_geg1e4r0nc\" frameborder=\"0\" style=\"border:0\" allowfullscreen></iframe>"
      ],
      "metadata": {
        "colab": {
          "base_uri": "https://localhost:8080/",
          "height": 471
        },
        "id": "lao9NDFBSIHZ",
        "outputId": "081fcd3d-d0d9-4822-edb2-da5cfb8744ac"
      },
      "execution_count": null,
      "outputs": [
        {
          "output_type": "display_data",
          "data": {
            "text/html": [
              "<iframe width=\"600\" height=\"450\" src=\"https://datastudio.google.com/embed/reporting/beeea5be-5a6c-4db4-bc9a-3b6588342ffc/page/p_geg1e4r0nc\" frameborder=\"0\" style=\"border:0\" allowfullscreen></iframe>"
            ],
            "text/plain": [
              "<IPython.core.display.HTML object>"
            ]
          },
          "metadata": {}
        }
      ]
    },
    {
      "cell_type": "code",
      "source": [
        "%%html\n",
        "<iframe width=\"600\" height=\"450\" src=\"https://datastudio.google.com/embed/reporting/8f160b99-3a38-42d1-9b3a-bdcd35b15dde/page/9tNiC\" frameborder=\"0\" style=\"border:0\" allowfullscreen></iframe>"
      ],
      "metadata": {
        "colab": {
          "base_uri": "https://localhost:8080/",
          "height": 471
        },
        "id": "8_T9W1UdSiZD",
        "outputId": "731436c7-fa91-46ab-cc4a-531f2c2263dd"
      },
      "execution_count": null,
      "outputs": [
        {
          "output_type": "display_data",
          "data": {
            "text/html": [
              "<iframe width=\"600\" height=\"450\" src=\"https://datastudio.google.com/embed/reporting/8f160b99-3a38-42d1-9b3a-bdcd35b15dde/page/9tNiC\" frameborder=\"0\" style=\"border:0\" allowfullscreen></iframe>"
            ],
            "text/plain": [
              "<IPython.core.display.HTML object>"
            ]
          },
          "metadata": {}
        }
      ]
    },
    {
      "cell_type": "code",
      "source": [
        "%%html\n",
        "<iframe width=\"600\" height=\"450\" src=\"https://datastudio.google.com/embed/reporting/a9248b41-ff36-40ab-9397-fd88a3c7fae3/page/fZEcC\" frameborder=\"0\" style=\"border:0\" allowfullscreen></iframe>"
      ],
      "metadata": {
        "colab": {
          "base_uri": "https://localhost:8080/",
          "height": 471
        },
        "id": "iJT9YExUSzeS",
        "outputId": "99c4d9db-e901-4759-d2e2-572d1d9f3633"
      },
      "execution_count": null,
      "outputs": [
        {
          "output_type": "display_data",
          "data": {
            "text/html": [
              "<iframe width=\"600\" height=\"450\" src=\"https://datastudio.google.com/embed/reporting/a9248b41-ff36-40ab-9397-fd88a3c7fae3/page/fZEcC\" frameborder=\"0\" style=\"border:0\" allowfullscreen></iframe>"
            ],
            "text/plain": [
              "<IPython.core.display.HTML object>"
            ]
          },
          "metadata": {}
        }
      ]
    },
    {
      "cell_type": "code",
      "source": [
        "%%html\n",
        "<iframe width=\"600\" height=\"450\" src=\"https://datastudio.google.com/embed/reporting/5b9bb49c-24db-489c-9c04-b3fc4eea85fd/page/kRifC\" frameborder=\"0\" style=\"border:0\" allowfullscreen></iframe>"
      ],
      "metadata": {
        "colab": {
          "base_uri": "https://localhost:8080/",
          "height": 471
        },
        "id": "N4_gCsgITClO",
        "outputId": "91707721-9f1c-4ebe-e183-5428b887b091"
      },
      "execution_count": null,
      "outputs": [
        {
          "output_type": "display_data",
          "data": {
            "text/html": [
              "<iframe width=\"600\" height=\"450\" src=\"https://datastudio.google.com/embed/reporting/5b9bb49c-24db-489c-9c04-b3fc4eea85fd/page/kRifC\" frameborder=\"0\" style=\"border:0\" allowfullscreen></iframe>"
            ],
            "text/plain": [
              "<IPython.core.display.HTML object>"
            ]
          },
          "metadata": {}
        }
      ]
    },
    {
      "cell_type": "code",
      "source": [
        "%%html\n",
        "<iframe src='https://cdn.knightlab.com/libs/timeline3/latest/embed/index.html?source=1HIRMnYkE-X5mxkBgZ-nmTisz0jaWVmM2wLc2X6qNGQA&font=Default&lang=en&initial_zoom=2&height=650' width='100%' height='650' webkitallowfullscreen mozallowfullscreen allowfullscreen frameborder='0'></iframe>"
      ],
      "metadata": {
        "colab": {
          "base_uri": "https://localhost:8080/",
          "height": 671
        },
        "id": "35-APBn_Uy3Z",
        "outputId": "11eb7059-d092-4d57-b5ca-67f5bc989deb"
      },
      "execution_count": null,
      "outputs": [
        {
          "output_type": "display_data",
          "data": {
            "text/html": [
              "<iframe src='https://cdn.knightlab.com/libs/timeline3/latest/embed/index.html?source=1HIRMnYkE-X5mxkBgZ-nmTisz0jaWVmM2wLc2X6qNGQA&font=Default&lang=en&initial_zoom=2&height=650' width='100%' height='650' webkitallowfullscreen mozallowfullscreen allowfullscreen frameborder='0'></iframe>"
            ],
            "text/plain": [
              "<IPython.core.display.HTML object>"
            ]
          },
          "metadata": {}
        }
      ]
    },
    {
      "cell_type": "code",
      "source": [
        "%%html\n",
        "<iframe width=\"600\" height=\"450\" src=\"https://datastudio.google.com/embed/reporting/660aea06-e2cc-464d-86b8-4eba729d2625/page/c6xaC\" frameborder=\"0\" style=\"border:0\" allowfullscreen></iframe>"
      ],
      "metadata": {
        "colab": {
          "base_uri": "https://localhost:8080/",
          "height": 471
        },
        "id": "UZCcyeMDVTuI",
        "outputId": "425a5e2a-ccc2-453b-c856-b31fdbed6785"
      },
      "execution_count": null,
      "outputs": [
        {
          "output_type": "display_data",
          "data": {
            "text/html": [
              "<iframe width=\"600\" height=\"450\" src=\"https://datastudio.google.com/embed/reporting/660aea06-e2cc-464d-86b8-4eba729d2625/page/c6xaC\" frameborder=\"0\" style=\"border:0\" allowfullscreen></iframe>"
            ],
            "text/plain": [
              "<IPython.core.display.HTML object>"
            ]
          },
          "metadata": {}
        }
      ]
    }
  ]
}